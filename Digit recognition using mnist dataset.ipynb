{
 "cells": [
  {
   "cell_type": "code",
   "execution_count": 280,
   "metadata": {},
   "outputs": [],
   "source": [
    "import tensorflow as tf\n",
    "import keras\n",
    "from keras.layers import Dense\n",
    "from keras.models import Sequential\n",
    "from tensorflow.keras.layers import Conv2D,MaxPool2D,Dense,Flatten,Dropout\n",
    "from sklearn.model_selection import GridSearchCV\n",
    "import pandas as pd\n",
    "import numpy as np\n",
    "import matplotlib.pyplot as plt\n",
    "# fix random seed for reproducibility\n",
    "np.random.seed(42)"
   ]
  },
  {
   "cell_type": "code",
   "execution_count": 281,
   "metadata": {},
   "outputs": [
    {
     "name": "stdout",
     "output_type": "stream",
     "text": [
      "2.2.0\n",
      "2.4.3\n"
     ]
    }
   ],
   "source": [
    "print(tf.__version__)\n",
    "print(keras.__version__)"
   ]
  },
  {
   "cell_type": "code",
   "execution_count": 282,
   "metadata": {},
   "outputs": [],
   "source": [
    "mnist = keras.datasets.mnist\n",
    "(x_train, y_train),(x_test, y_test) = mnist.load_data()"
   ]
  },
  {
   "cell_type": "code",
   "execution_count": 283,
   "metadata": {},
   "outputs": [
    {
     "data": {
      "text/plain": [
       "<matplotlib.image.AxesImage at 0x136ccdae940>"
      ]
     },
     "execution_count": 283,
     "metadata": {},
     "output_type": "execute_result"
    },
    {
     "data": {
      "image/png": "[encoded data removed]",
      "text/plain": [
       "<Figure size 432x288 with 1 Axes>"
      ]
     },
     "metadata": {
      "needs_background": "light"
     },
     "output_type": "display_data"
    }
   ],
   "source": [
    "plt.imshow(x_train[0])"
   ]
  },
  {
   "cell_type": "code",
   "execution_count": 284,
   "metadata": {},
   "outputs": [
    {
     "data": {
      "text/plain": [
       "(60000, 28, 28)"
      ]
     },
     "execution_count": 284,
     "metadata": {},
     "output_type": "execute_result"
    }
   ],
   "source": [
    "x_train.shape"
   ]
  },
  {
   "cell_type": "code",
   "execution_count": 285,
   "metadata": {},
   "outputs": [
    {
     "data": {
      "text/plain": [
       "(0, 255)"
      ]
     },
     "execution_count": 285,
     "metadata": {},
     "output_type": "execute_result"
    }
   ],
   "source": [
    "x_train.min(), x_train.max()"
   ]
  },
  {
   "cell_type": "code",
   "execution_count": 286,
   "metadata": {},
   "outputs": [],
   "source": [
    "# normalize the data\n",
    "x_train, x_test = x_train / 255.0, x_test / 255.0"
   ]
  },
  {
   "cell_type": "code",
   "execution_count": 287,
   "metadata": {},
   "outputs": [],
   "source": [
    "# reshape images to 1D so we can just work with dense layers\n",
    "x_train = x_train.reshape(60000, 784)\n",
    "x_test = x_test.reshape(10000, 784)"
   ]
  },
  {
   "cell_type": "code",
   "execution_count": 288,
   "metadata": {},
   "outputs": [],
   "source": [
    "num_classes = 10\n",
    "\n",
    "# One hot encoding for categorical labels\n",
    "y_train = keras.utils.to_categorical(y_train, num_classes)\n",
    "y_test = keras.utils.to_categorical(y_test, num_classes)"
   ]
  },
  {
   "cell_type": "code",
   "execution_count": 289,
   "metadata": {},
   "outputs": [],
   "source": [
    "#Take a subset of train for grid search. Let us take 10% for now\n",
    "from sklearn.model_selection import train_test_split\n",
    "x_grid, x_not_use, y_grid, y_not_use = train_test_split(x_train, y_train, test_size=0.9, random_state=42)\n",
    "\n",
    "# build the model\n",
    "input_dim = x_grid.shape[1]"
   ]
  },
  {
   "cell_type": "code",
   "execution_count": 290,
   "metadata": {},
   "outputs": [],
   "source": [
    "def define_model(activation='relu', init_weights='uniform', optimizer='Adam'):   \n",
    "    model = Sequential()\n",
    "    model.add(Dense(64, activation=activation, kernel_initializer=init_weights, \n",
    "                    input_dim = input_dim)) \n",
    "    model.add(Dropout(0.1))\n",
    "    model.add(Dense(64, kernel_initializer=init_weights, activation=activation))\n",
    "    model.add(Dense(num_classes, kernel_initializer=init_weights, activation='softmax'))\n",
    "    \n",
    "    # compile the model\n",
    "    model.compile(loss='categorical_crossentropy',\n",
    "                  optimizer=optimizer,      \n",
    "                  metrics=['acc'])\n",
    "    return model"
   ]
  },
  {
   "cell_type": "code",
   "execution_count": 291,
   "metadata": {},
   "outputs": [],
   "source": [
    "from keras.wrappers.scikit_learn import KerasClassifier\n",
    "batch_size = 100\n",
    "epochs = 10"
   ]
  },
  {
   "cell_type": "code",
   "execution_count": 292,
   "metadata": {},
   "outputs": [],
   "source": [
    "model = KerasClassifier(build_fn=define_model, \n",
    "                        epochs=epochs, \n",
    "                        batch_size = batch_size, \n",
    "                        verbose=1)"
   ]
  },
  {
   "cell_type": "code",
   "execution_count": 293,
   "metadata": {},
   "outputs": [],
   "source": [
    "activation = ['softmax', 'relu', 'sigmoid','softplus','tanh']\n",
    "\n",
    "init_weights = ['uniform', 'normal', 'he_uniform', 'he_normal']\n",
    " \n",
    "optimizer = ['SGD', 'RMSprop', 'Adam']"
   ]
  },
  {
   "cell_type": "code",
   "execution_count": 294,
   "metadata": {},
   "outputs": [],
   "source": [
    "param_grid = dict(activation=activation, init_weights=init_weights, optimizer=optimizer)"
   ]
  },
  {
   "cell_type": "code",
   "execution_count": 295,
   "metadata": {},
   "outputs": [],
   "source": [
    "#Cross validation, cv=3\n",
    "grid = GridSearchCV(estimator=model, param_grid=param_grid, n_jobs=-1, cv=3)"
   ]
  },
  {
   "cell_type": "code",
   "execution_count": 296,
   "metadata": {
    "scrolled": true
   },
   "outputs": [
    {
     "name": "stdout",
     "output_type": "stream",
     "text": [
      "Epoch 1/10\n",
      "60/60 [==============================] - 0s 3ms/step - loss: 1.1888 - acc: 0.6570\n",
      "Epoch 2/10\n",
      "60/60 [==============================] - 0s 3ms/step - loss: 0.4481 - acc: 0.8657\n",
      "Epoch 3/10\n",
      "60/60 [==============================] - 0s 3ms/step - loss: 0.3340 - acc: 0.9010\n",
      "Epoch 4/10\n",
      "60/60 [==============================] - 0s 4ms/step - loss: 0.2711 - acc: 0.9223\n",
      "Epoch 5/10\n",
      "60/60 [==============================] - 0s 4ms/step - loss: 0.2338 - acc: 0.9310\n",
      "Epoch 6/10\n",
      "60/60 [==============================] - 0s 4ms/step - loss: 0.2058 - acc: 0.9378\n",
      "Epoch 7/10\n",
      "60/60 [==============================] - 0s 3ms/step - loss: 0.1751 - acc: 0.9478\n",
      "Epoch 8/10\n",
      "60/60 [==============================] - 0s 3ms/step - loss: 0.1594 - acc: 0.9540\n",
      "Epoch 9/10\n",
      "60/60 [==============================] - 0s 3ms/step - loss: 0.1387 - acc: 0.9612\n",
      "Epoch 10/10\n",
      "60/60 [==============================] - 0s 3ms/step - loss: 0.1271 - acc: 0.9602\n"
     ]
    }
   ],
   "source": [
    "grid_result = grid.fit(x_grid, y_grid)"
   ]
  },
  {
   "cell_type": "code",
   "execution_count": 297,
   "metadata": {},
   "outputs": [
    {
     "name": "stdout",
     "output_type": "stream",
     "text": [
      "Best: 0.931333 using {'activation': 'relu', 'init_weights': 'he_uniform', 'optimizer': 'Adam'}\n",
      "Mean = 0.112333 (std=0.007487) with: {'activation': 'softmax', 'init_weights': 'uniform', 'optimizer': 'SGD'}\n",
      "Mean = 0.263667 (std=0.119466) with: {'activation': 'softmax', 'init_weights': 'uniform', 'optimizer': 'RMSprop'}\n",
      "Mean = 0.481000 (std=0.070885) with: {'activation': 'softmax', 'init_weights': 'uniform', 'optimizer': 'Adam'}\n",
      "Mean = 0.112333 (std=0.007487) with: {'activation': 'softmax', 'init_weights': 'normal', 'optimizer': 'SGD'}\n",
      "Mean = 0.363833 (std=0.142732) with: {'activation': 'softmax', 'init_weights': 'normal', 'optimizer': 'RMSprop'}\n",
      "Mean = 0.609167 (std=0.115266) with: {'activation': 'softmax', 'init_weights': 'normal', 'optimizer': 'Adam'}\n",
      "Mean = 0.106333 (std=0.006485) with: {'activation': 'softmax', 'init_weights': 'he_uniform', 'optimizer': 'SGD'}\n",
      "Mean = 0.604167 (std=0.127933) with: {'activation': 'softmax', 'init_weights': 'he_uniform', 'optimizer': 'RMSprop'}\n",
      "Mean = 0.714667 (std=0.073835) with: {'activation': 'softmax', 'init_weights': 'he_uniform', 'optimizer': 'Adam'}\n",
      "Mean = 0.112333 (std=0.007487) with: {'activation': 'softmax', 'init_weights': 'he_normal', 'optimizer': 'SGD'}\n",
      "Mean = 0.630333 (std=0.120043) with: {'activation': 'softmax', 'init_weights': 'he_normal', 'optimizer': 'RMSprop'}\n",
      "Mean = 0.688333 (std=0.042603) with: {'activation': 'softmax', 'init_weights': 'he_normal', 'optimizer': 'Adam'}\n",
      "Mean = 0.171000 (std=0.060110) with: {'activation': 'relu', 'init_weights': 'uniform', 'optimizer': 'SGD'}\n",
      "Mean = 0.900500 (std=0.010700) with: {'activation': 'relu', 'init_weights': 'uniform', 'optimizer': 'RMSprop'}\n",
      "Mean = 0.912500 (std=0.006364) with: {'activation': 'relu', 'init_weights': 'uniform', 'optimizer': 'Adam'}\n",
      "Mean = 0.353000 (std=0.051460) with: {'activation': 'relu', 'init_weights': 'normal', 'optimizer': 'SGD'}\n",
      "Mean = 0.912833 (std=0.005104) with: {'activation': 'relu', 'init_weights': 'normal', 'optimizer': 'RMSprop'}\n",
      "Mean = 0.913833 (std=0.003704) with: {'activation': 'relu', 'init_weights': 'normal', 'optimizer': 'Adam'}\n",
      "Mean = 0.824500 (std=0.012376) with: {'activation': 'relu', 'init_weights': 'he_uniform', 'optimizer': 'SGD'}\n",
      "Mean = 0.930000 (std=0.001871) with: {'activation': 'relu', 'init_weights': 'he_uniform', 'optimizer': 'RMSprop'}\n",
      "Mean = 0.931333 (std=0.000236) with: {'activation': 'relu', 'init_weights': 'he_uniform', 'optimizer': 'Adam'}\n",
      "Mean = 0.822500 (std=0.008196) with: {'activation': 'relu', 'init_weights': 'he_normal', 'optimizer': 'SGD'}\n",
      "Mean = 0.925500 (std=0.008155) with: {'activation': 'relu', 'init_weights': 'he_normal', 'optimizer': 'RMSprop'}\n",
      "Mean = 0.926833 (std=0.003472) with: {'activation': 'relu', 'init_weights': 'he_normal', 'optimizer': 'Adam'}\n",
      "Mean = 0.112333 (std=0.007487) with: {'activation': 'sigmoid', 'init_weights': 'uniform', 'optimizer': 'SGD'}\n",
      "Mean = 0.780000 (std=0.009336) with: {'activation': 'sigmoid', 'init_weights': 'uniform', 'optimizer': 'RMSprop'}\n",
      "Mean = 0.841333 (std=0.015739) with: {'activation': 'sigmoid', 'init_weights': 'uniform', 'optimizer': 'Adam'}\n",
      "Mean = 0.112333 (std=0.007487) with: {'activation': 'sigmoid', 'init_weights': 'normal', 'optimizer': 'SGD'}\n",
      "Mean = 0.841500 (std=0.013952) with: {'activation': 'sigmoid', 'init_weights': 'normal', 'optimizer': 'RMSprop'}\n",
      "Mean = 0.859667 (std=0.007420) with: {'activation': 'sigmoid', 'init_weights': 'normal', 'optimizer': 'Adam'}\n",
      "Mean = 0.314333 (std=0.081738) with: {'activation': 'sigmoid', 'init_weights': 'he_uniform', 'optimizer': 'SGD'}\n",
      "Mean = 0.894833 (std=0.003424) with: {'activation': 'sigmoid', 'init_weights': 'he_uniform', 'optimizer': 'RMSprop'}\n",
      "Mean = 0.890333 (std=0.011213) with: {'activation': 'sigmoid', 'init_weights': 'he_uniform', 'optimizer': 'Adam'}\n",
      "Mean = 0.292667 (std=0.051545) with: {'activation': 'sigmoid', 'init_weights': 'he_normal', 'optimizer': 'SGD'}\n",
      "Mean = 0.889833 (std=0.008567) with: {'activation': 'sigmoid', 'init_weights': 'he_normal', 'optimizer': 'RMSprop'}\n",
      "Mean = 0.889000 (std=0.010255) with: {'activation': 'sigmoid', 'init_weights': 'he_normal', 'optimizer': 'Adam'}\n",
      "Mean = 0.112333 (std=0.007487) with: {'activation': 'softplus', 'init_weights': 'uniform', 'optimizer': 'SGD'}\n",
      "Mean = 0.889000 (std=0.009229) with: {'activation': 'softplus', 'init_weights': 'uniform', 'optimizer': 'RMSprop'}\n",
      "Mean = 0.896167 (std=0.006196) with: {'activation': 'softplus', 'init_weights': 'uniform', 'optimizer': 'Adam'}\n",
      "Mean = 0.182500 (std=0.023551) with: {'activation': 'softplus', 'init_weights': 'normal', 'optimizer': 'SGD'}\n",
      "Mean = 0.904333 (std=0.001179) with: {'activation': 'softplus', 'init_weights': 'normal', 'optimizer': 'RMSprop'}\n",
      "Mean = 0.906500 (std=0.003082) with: {'activation': 'softplus', 'init_weights': 'normal', 'optimizer': 'Adam'}\n",
      "Mean = 0.777833 (std=0.015628) with: {'activation': 'softplus', 'init_weights': 'he_uniform', 'optimizer': 'SGD'}\n",
      "Mean = 0.915167 (std=0.001700) with: {'activation': 'softplus', 'init_weights': 'he_uniform', 'optimizer': 'RMSprop'}\n",
      "Mean = 0.911667 (std=0.001650) with: {'activation': 'softplus', 'init_weights': 'he_uniform', 'optimizer': 'Adam'}\n",
      "Mean = 0.779667 (std=0.016054) with: {'activation': 'softplus', 'init_weights': 'he_normal', 'optimizer': 'SGD'}\n",
      "Mean = 0.912167 (std=0.002248) with: {'activation': 'softplus', 'init_weights': 'he_normal', 'optimizer': 'RMSprop'}\n",
      "Mean = 0.915333 (std=0.002014) with: {'activation': 'softplus', 'init_weights': 'he_normal', 'optimizer': 'Adam'}\n",
      "Mean = 0.499167 (std=0.028394) with: {'activation': 'tanh', 'init_weights': 'uniform', 'optimizer': 'SGD'}\n",
      "Mean = 0.906167 (std=0.006944) with: {'activation': 'tanh', 'init_weights': 'uniform', 'optimizer': 'RMSprop'}\n",
      "Mean = 0.915667 (std=0.003567) with: {'activation': 'tanh', 'init_weights': 'uniform', 'optimizer': 'Adam'}\n",
      "Mean = 0.588667 (std=0.021025) with: {'activation': 'tanh', 'init_weights': 'normal', 'optimizer': 'SGD'}\n",
      "Mean = 0.917667 (std=0.003771) with: {'activation': 'tanh', 'init_weights': 'normal', 'optimizer': 'RMSprop'}\n",
      "Mean = 0.916500 (std=0.002273) with: {'activation': 'tanh', 'init_weights': 'normal', 'optimizer': 'Adam'}\n",
      "Mean = 0.844000 (std=0.013435) with: {'activation': 'tanh', 'init_weights': 'he_uniform', 'optimizer': 'SGD'}\n",
      "Mean = 0.919167 (std=0.001434) with: {'activation': 'tanh', 'init_weights': 'he_uniform', 'optimizer': 'RMSprop'}\n",
      "Mean = 0.919167 (std=0.005977) with: {'activation': 'tanh', 'init_weights': 'he_uniform', 'optimizer': 'Adam'}\n",
      "Mean = 0.842167 (std=0.011736) with: {'activation': 'tanh', 'init_weights': 'he_normal', 'optimizer': 'SGD'}\n",
      "Mean = 0.916500 (std=0.004301) with: {'activation': 'tanh', 'init_weights': 'he_normal', 'optimizer': 'RMSprop'}\n",
      "Mean = 0.917667 (std=0.004732) with: {'activation': 'tanh', 'init_weights': 'he_normal', 'optimizer': 'Adam'}\n"
     ]
    }
   ],
   "source": [
    "# summarize results\n",
    "print(\"Best: %f using %s\" % (grid_result.best_score_, grid_result.best_params_))\n",
    "means = grid_result.cv_results_['mean_test_score']\n",
    "stds = grid_result.cv_results_['std_test_score']\n",
    "params = grid_result.cv_results_['params']\n",
    "for mean, stdev, param in zip(means, stds, params):\n",
    "    print(\"Mean = %f (std=%f) with: %r\" % (mean, stdev, param))"
   ]
  },
  {
   "cell_type": "markdown",
   "metadata": {},
   "source": [
    "### From the above result, it can be seen that the best parameters for the given data are 'activation': 'relu',  'optimizer': 'Adam'"
   ]
  },
  {
   "cell_type": "code",
   "execution_count": 298,
   "metadata": {},
   "outputs": [],
   "source": [
    "mnist = keras.datasets.mnist\n",
    "(x_train, y_train),(x_test, y_test) = mnist.load_data()"
   ]
  },
  {
   "cell_type": "code",
   "execution_count": 299,
   "metadata": {},
   "outputs": [],
   "source": [
    "# normalize the data\n",
    "x_train, x_test = x_train / 255.0, x_test / 255.0"
   ]
  },
  {
   "cell_type": "code",
   "execution_count": 300,
   "metadata": {},
   "outputs": [],
   "source": [
    "x_train = x_train.reshape(60000,28,28,1)\n",
    "x_test = x_test.reshape(10000,28,28,1)"
   ]
  },
  {
   "cell_type": "code",
   "execution_count": 301,
   "metadata": {},
   "outputs": [],
   "source": [
    "input_shape = x_train[0].shape"
   ]
  },
  {
   "cell_type": "code",
   "execution_count": 302,
   "metadata": {},
   "outputs": [],
   "source": [
    "model = Sequential()\n",
    "model.add(Conv2D(filters=32, kernel_size=(3,3), activation='relu',input_shape=input_shape))\n",
    "model.add(Conv2D(filters=64,kernel_size=(3,3), activation='relu'))\n",
    "model.add(MaxPool2D(pool_size=(2,2)))\n",
    "model.add(Dropout(rate=0.25))\n",
    "\n",
    "model.add(Flatten())\n",
    "model.add(Dense(units=128, activation='relu'))\n",
    "model.add(Dropout(0.5))\n",
    "model.add(Dense(10, activation='softmax'))"
   ]
  },
  {
   "cell_type": "code",
   "execution_count": 303,
   "metadata": {},
   "outputs": [],
   "source": [
    "model.compile(optimizer='adam',loss='sparse_categorical_crossentropy',metrics=['accuracy'])"
   ]
  },
  {
   "cell_type": "code",
   "execution_count": 304,
   "metadata": {},
   "outputs": [],
   "source": [
    "x_train = x_train.reshape(60000,28,28,1)\n",
    "x_test = x_test.reshape(10000,28,28,1)"
   ]
  },
  {
   "cell_type": "code",
   "execution_count": 305,
   "metadata": {},
   "outputs": [
    {
     "name": "stdout",
     "output_type": "stream",
     "text": [
      "Epoch 1/10\n",
      "469/469 [==============================] - 75s 161ms/step - loss: 0.2361 - accuracy: 0.9283 - val_loss: 0.0515 - val_accuracy: 0.9840\n",
      "Epoch 2/10\n",
      "469/469 [==============================] - 65s 138ms/step - loss: 0.0828 - accuracy: 0.9754 - val_loss: 0.0389 - val_accuracy: 0.9877\n",
      "Epoch 3/10\n",
      "469/469 [==============================] - 67s 142ms/step - loss: 0.0623 - accuracy: 0.9812 - val_loss: 0.0323 - val_accuracy: 0.9896\n",
      "Epoch 4/10\n",
      "469/469 [==============================] - 65s 139ms/step - loss: 0.0503 - accuracy: 0.9850 - val_loss: 0.0316 - val_accuracy: 0.9895\n",
      "Epoch 5/10\n",
      "469/469 [==============================] - 65s 138ms/step - loss: 0.0439 - accuracy: 0.9861 - val_loss: 0.0334 - val_accuracy: 0.9895\n",
      "Epoch 6/10\n",
      "469/469 [==============================] - 64s 137ms/step - loss: 0.0390 - accuracy: 0.9875 - val_loss: 0.0277 - val_accuracy: 0.9916\n",
      "Epoch 7/10\n",
      "469/469 [==============================] - 64s 137ms/step - loss: 0.0346 - accuracy: 0.9887 - val_loss: 0.0296 - val_accuracy: 0.9917\n",
      "Epoch 8/10\n",
      "469/469 [==============================] - 64s 136ms/step - loss: 0.0289 - accuracy: 0.9910 - val_loss: 0.0327 - val_accuracy: 0.9910\n",
      "Epoch 9/10\n",
      "469/469 [==============================] - 64s 138ms/step - loss: 0.0299 - accuracy: 0.9900 - val_loss: 0.0308 - val_accuracy: 0.9907\n",
      "Epoch 10/10\n",
      "469/469 [==============================] - 67s 142ms/step - loss: 0.0269 - accuracy: 0.9911 - val_loss: 0.0264 - val_accuracy: 0.9921\n"
     ]
    }
   ],
   "source": [
    "history = model.fit(x_train,y_train,batch_size=128,epochs=10,verbose=1,validation_data=(x_test,y_test))"
   ]
  },
  {
   "cell_type": "code",
   "execution_count": 306,
   "metadata": {
    "scrolled": false
   },
   "outputs": [
    {
     "name": "stdout",
     "output_type": "stream",
     "text": [
      "313/313 [==============================] - 3s 11ms/step - loss: 0.0264 - accuracy: 0.9921\n"
     ]
    },
    {
     "data": {
      "text/plain": [
       "[0.02640431746840477, 0.9921000003814697]"
      ]
     },
     "execution_count": 306,
     "metadata": {},
     "output_type": "execute_result"
    }
   ],
   "source": [
    "model.evaluate(x_test,y_test)"
   ]
  },
  {
   "cell_type": "code",
   "execution_count": 307,
   "metadata": {},
   "outputs": [
    {
     "data": {
      "text/plain": [
       "{'loss': [0.23610132932662964,\n",
       "  0.08277978003025055,\n",
       "  0.06233224272727966,\n",
       "  0.05026600882411003,\n",
       "  0.04388465732336044,\n",
       "  0.0389559380710125,\n",
       "  0.03463516756892204,\n",
       "  0.028931692242622375,\n",
       "  0.02985280007123947,\n",
       "  0.02689930610358715],\n",
       " 'accuracy': [0.9282500147819519,\n",
       "  0.9753833413124084,\n",
       "  0.981249988079071,\n",
       "  0.9850000143051147,\n",
       "  0.986050009727478,\n",
       "  0.9874833226203918,\n",
       "  0.9887333512306213,\n",
       "  0.9909666776657104,\n",
       "  0.9899500012397766,\n",
       "  0.9910500049591064],\n",
       " 'val_loss': [0.05149037018418312,\n",
       "  0.038918476551771164,\n",
       "  0.032296568155288696,\n",
       "  0.03157179430127144,\n",
       "  0.033428166061639786,\n",
       "  0.027691854164004326,\n",
       "  0.02956276573240757,\n",
       "  0.032713908702135086,\n",
       "  0.030827563256025314,\n",
       "  0.02640431746840477],\n",
       " 'val_accuracy': [0.984000027179718,\n",
       "  0.9876999855041504,\n",
       "  0.9896000027656555,\n",
       "  0.9894999861717224,\n",
       "  0.9894999861717224,\n",
       "  0.991599977016449,\n",
       "  0.9916999936103821,\n",
       "  0.9909999966621399,\n",
       "  0.9907000064849854,\n",
       "  0.9921000003814697]}"
      ]
     },
     "execution_count": 307,
     "metadata": {},
     "output_type": "execute_result"
    }
   ],
   "source": [
    "history.history"
   ]
  },
  {
   "cell_type": "code",
   "execution_count": 308,
   "metadata": {},
   "outputs": [
    {
     "data": {
      "image/png": "[encoded data removed]",
      "text/plain": [
       "<Figure size 432x288 with 1 Axes>"
      ]
     },
     "metadata": {
      "needs_background": "light"
     },
     "output_type": "display_data"
    },
    {
     "data": {
      "image/png": "[encoded data removed]",
      "text/plain": [
       "<Figure size 432x288 with 1 Axes>"
      ]
     },
     "metadata": {
      "needs_background": "light"
     },
     "output_type": "display_data"
    }
   ],
   "source": [
    "# Plot training & validation accuracy values\n",
    "epoch_range = range(1, 11)\n",
    "plt.plot(epoch_range, history.history['accuracy'])\n",
    "plt.plot(epoch_range, history.history['val_accuracy'])\n",
    "plt.title('Model accuracy')\n",
    "plt.ylabel('Accuracy')\n",
    "plt.xlabel('Epoch')\n",
    "plt.legend(['Train', 'Val'], loc='upper left')\n",
    "plt.show()\n",
    "\n",
    "# Plot training & validation loss values\n",
    "plt.plot(epoch_range, history.history['loss'])\n",
    "plt.plot(epoch_range, history.history['val_loss'])\n",
    "plt.title('Model loss')\n",
    "plt.ylabel('Loss')\n",
    "plt.xlabel('Epoch')\n",
    "plt.legend(['Train', 'Val'], loc='upper left')\n",
    "plt.show()"
   ]
  },
  {
   "cell_type": "markdown",
   "metadata": {},
   "source": [
    "### From above graph is seen that our model is perfect not overfit or underfit"
   ]
  },
  {
   "cell_type": "code",
   "execution_count": null,
   "metadata": {},
   "outputs": [],
   "source": []
  }
 ],
 "metadata": {
  "kernelspec": {
   "display_name": "Python 3",
   "language": "python",
   "name": "python3"
  },
  "language_info": {
   "codemirror_mode": {
    "name": "ipython",
    "version": 3
   },
   "file_extension": ".py",
   "mimetype": "text/x-python",
   "name": "python",
   "nbconvert_exporter": "python",
   "pygments_lexer": "ipython3",
   "version": "3.6.10"
  }
 },
 "nbformat": 4,
 "nbformat_minor": 4
}
